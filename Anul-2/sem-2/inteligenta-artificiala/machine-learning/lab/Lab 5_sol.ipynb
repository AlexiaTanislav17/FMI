{
 "cells": [
  {
   "cell_type": "markdown",
   "metadata": {
    "id": "DLsj94nwDag0"
   },
   "source": [
    "## Laborator 5"
   ]
  },
  {
   "cell_type": "code",
   "execution_count": 1,
   "metadata": {
    "colab": {
     "base_uri": "https://localhost:8080/"
    },
    "executionInfo": {
     "elapsed": 607,
     "status": "ok",
     "timestamp": 1742974173950,
     "user": {
      "displayName": "Diana Grigore",
      "userId": "10167723207214837184"
     },
     "user_tz": -120
    },
    "id": "YKMjpE4yWxPe",
    "outputId": "3e0c3bb4-fe7f-46b8-c1c5-5245a7fa6c1b"
   },
   "outputs": [
    {
     "name": "stdout",
     "output_type": "stream",
     "text": [
      "--2025-03-26 07:29:33--  https://fmi-unibuc-ia.github.io/ia/Data/data_lab6.zip\n",
      "Resolving fmi-unibuc-ia.github.io (fmi-unibuc-ia.github.io)... 185.199.110.153, 185.199.111.153, 185.199.109.153, ...\n",
      "Connecting to fmi-unibuc-ia.github.io (fmi-unibuc-ia.github.io)|185.199.110.153|:443... connected.\n",
      "HTTP request sent, awaiting response... 200 OK\n",
      "Length: 55791 (54K) [application/zip]\n",
      "Saving to: ‘data_lab6.zip’\n",
      "\n",
      "data_lab6.zip       100%[===================>]  54.48K  --.-KB/s    in 0.06s   \n",
      "\n",
      "2025-03-26 07:29:33 (969 KB/s) - ‘data_lab6.zip’ saved [55791/55791]\n",
      "\n"
     ]
    }
   ],
   "source": [
    "!wget https://fmi-unibuc-ia.github.io/ia/Data/data_lab6.zip"
   ]
  },
  {
   "cell_type": "code",
   "execution_count": 2,
   "metadata": {
    "colab": {
     "base_uri": "https://localhost:8080/"
    },
    "executionInfo": {
     "elapsed": 106,
     "status": "ok",
     "timestamp": 1742974189567,
     "user": {
      "displayName": "Diana Grigore",
      "userId": "10167723207214837184"
     },
     "user_tz": -120
    },
    "id": "hIhvwSqjWzEG",
    "outputId": "4b67824e-0719-4c3b-cf75-0e97705b8b70"
   },
   "outputs": [
    {
     "name": "stdout",
     "output_type": "stream",
     "text": [
      "Archive:  /content/data_lab6.zip\n",
      "  inflating: data/prices.npy         \n",
      "  inflating: data/training_data.npy  \n"
     ]
    }
   ],
   "source": [
    "!unzip /content/data_lab6.zip"
   ]
  },
  {
   "cell_type": "code",
   "execution_count": 3,
   "metadata": {
    "colab": {
     "base_uri": "https://localhost:8080/"
    },
    "executionInfo": {
     "elapsed": 1412,
     "status": "ok",
     "timestamp": 1742974194489,
     "user": {
      "displayName": "Diana Grigore",
      "userId": "10167723207214837184"
     },
     "user_tz": -120
    },
    "id": "nGSH-FqlWiXu",
    "outputId": "6cb8e76d-d331-4bfd-dcb0-2bad17bebdc2"
   },
   "outputs": [
    {
     "name": "stdout",
     "output_type": "stream",
     "text": [
      "The first 4 samples are:\n",
      "  [[2.0150e+03 4.1000e+04 1.9670e+01 1.5820e+03 1.2620e+02 5.0000e+00\n",
      "  1.0000e+00 0.0000e+00 1.0000e+00 0.0000e+00 0.0000e+00 0.0000e+00\n",
      "  1.0000e+00 0.0000e+00]\n",
      " [2.0110e+03 4.6000e+04 1.8200e+01 1.1990e+03 8.8700e+01 5.0000e+00\n",
      "  1.0000e+00 0.0000e+00 0.0000e+00 1.0000e+00 0.0000e+00 0.0000e+00\n",
      "  1.0000e+00 0.0000e+00]\n",
      " [2.0120e+03 8.7000e+04 2.0770e+01 1.2480e+03 8.8760e+01 7.0000e+00\n",
      "  1.0000e+00 0.0000e+00 1.0000e+00 0.0000e+00 0.0000e+00 0.0000e+00\n",
      "  1.0000e+00 0.0000e+00]\n",
      " [2.0130e+03 8.6999e+04 2.3080e+01 1.4610e+03 6.3100e+01 5.0000e+00\n",
      "  1.0000e+00 0.0000e+00 1.0000e+00 0.0000e+00 0.0000e+00 0.0000e+00\n",
      "  1.0000e+00 0.0000e+00]]\n",
      "The first 4 prices are:\n",
      "  [12.5  4.5  6.   3.5]\n"
     ]
    }
   ],
   "source": [
    "import numpy as np\n",
    "from sklearn.utils import shuffle\n",
    "# load training data\n",
    "training_data = np.load('data/training_data.npy')\n",
    "prices = np.load('data/prices.npy')\n",
    "# print the first 4 samples\n",
    "\n",
    "print('The first 4 samples are:\\n ', training_data[:4])\n",
    "print('The first 4 prices are:\\n ', prices[:4])\n",
    "# shuffle\n",
    "training_data, prices = shuffle(training_data, prices, random_state=0)"
   ]
  },
  {
   "cell_type": "markdown",
   "metadata": {
    "id": "SOwq77LNWaI_"
   },
   "source": [
    "1. Definiți o metodă care primește doi parametri, datele de antrenare și cele de\n",
    "testare și returnează datele normalizate. Folosiți o metodă de normalizare\n",
    "corespunzătoare pentru setul de date Car Price Prediction.\n"
   ]
  },
  {
   "cell_type": "code",
   "execution_count": 25,
   "metadata": {
    "executionInfo": {
     "elapsed": 11,
     "status": "ok",
     "timestamp": 1742975226436,
     "user": {
      "displayName": "Diana Grigore",
      "userId": "10167723207214837184"
     },
     "user_tz": -120
    },
    "id": "37pxKZ_5WS7n"
   },
   "outputs": [],
   "source": [
    "from sklearn.preprocessing import StandardScaler\n",
    "\n",
    "def normalize_data(training_data, test_data):\n",
    "  scaler = StandardScaler()\n",
    "  normalized_data_train = scaler.fit_transform(training_data)\n",
    "  normalized_data_test = scaler.transform(test_data)\n",
    "  return normalized_data_train, normalized_data_test"
   ]
  },
  {
   "cell_type": "markdown",
   "metadata": {
    "id": "aS703VngWcYe"
   },
   "source": [
    "2. Folosind mulțimea de antrenare din setul de date Car Price Prediction\n",
    "antrenați un model de regresie liniară folosind validarea încrucișată cu 3 fold-uri.\n",
    "Calculați valoarea medie a funcțiilor MSE și MAE.\n",
    "Nu uitați să normalizați datele folosind metoda definită anterior.\n"
   ]
  },
  {
   "cell_type": "code",
   "execution_count": 26,
   "metadata": {
    "colab": {
     "base_uri": "https://localhost:8080/"
    },
    "executionInfo": {
     "elapsed": 47,
     "status": "ok",
     "timestamp": 1742975253203,
     "user": {
      "displayName": "Diana Grigore",
      "userId": "10167723207214837184"
     },
     "user_tz": -120
    },
    "id": "I4h4LeptWdyO",
    "outputId": "86ded891-1c21-4e5f-8357-7abf0cbe2724"
   },
   "outputs": [
    {
     "name": "stdout",
     "output_type": "stream",
     "text": [
      "3.1674454\n",
      "1.3196093\n"
     ]
    }
   ],
   "source": [
    "from sklearn.model_selection import cross_val_score, KFold\n",
    "from sklearn.linear_model import LinearRegression\n",
    "\n",
    "kfold = KFold(n_splits=3)\n",
    "kfold.get_n_splits(training_data)\n",
    "\n",
    "mse_scores = []\n",
    "mae_scores = []\n",
    "\n",
    "for train_index , test_index in kfold.split(training_data):\n",
    "  linear_regression_model = LinearRegression()\n",
    "  X_train , X_test = training_data[train_index] , training_data[test_index]\n",
    "  y_train , y_test = prices[train_index] , prices[test_index]\n",
    "\n",
    "  normalize_data_train, normalize_data_test = normalize_data(X_train, X_test)\n",
    "  X_train = normalize_data_train\n",
    "  X_test = normalize_data_test\n",
    "\n",
    "  linear_regression_model.fit(X_train, y_train)\n",
    "\n",
    "  y_pred = linear_regression_model.predict(X_test)\n",
    "  mse = np.mean((y_test - y_pred)**2)\n",
    "  mse_scores.append(mse)\n",
    "  mae = np.mean(np.abs(y_test - y_pred))\n",
    "  mae_scores.append(mae)\n",
    "\n",
    "print(np.mean(mse_scores))\n",
    "print(np.mean(mae_scores))"
   ]
  },
  {
   "cell_type": "markdown",
   "metadata": {
    "id": "gop0LxLWWeB-"
   },
   "source": [
    "3. Folosind mulțimea de antrenare din setul de date Car Price Prediction\n",
    "antrenați un model de regresie ridge folosind validarea încrucișată cu 3 fold-uri.\n",
    "Calculați valoarea medie a funcțiilor MSE și MAE. Verificați care valoare a lui α,\n",
    "α ∈ {1, 10, 100, 1000}obține o performanță mai bună.\n",
    "Nu uitați să normalizați datele folosind metoda definită anterior.\n"
   ]
  },
  {
   "cell_type": "code",
   "execution_count": null,
   "metadata": {
    "id": "GGhf7RsDWfvT"
   },
   "outputs": [],
   "source": [
    "from sklearn.preprocessing import StandardScaler\n",
    "from sklearn.model_selection import KFold\n",
    "from sklearn.linear_model import Ridge\n",
    "import numpy as np\n",
    "\n",
    "def normalize_data(training_data, test_data):\n",
    "  scaler = StandardScaler()\n",
    "  normalized_data_train = scaler.fit_transform(training_data)\n",
    "  normalized_data_test = scaler.transform(test_data)\n",
    "  return normalized_data_train, normalized_data_test\n",
    "\n",
    "alpha_values = [1, 10, 100, 1000]\n",
    "alpha_results = {}\n",
    "\n",
    "for alpha in alpha_values:\n",
    "    kfold = KFold(n_splits=3)\n",
    "    kfold.get_n_splits(training_data)\n",
    "    \n",
    "    mse_scores = []\n",
    "    mae_scores = []\n",
    "    \n",
    "    for train_index, test_index in kfold.split(training_data):\n",
    "        ridge_model = Ridge(alpha=alpha)\n",
    "        X_train, X_test = training_data[train_index], training_data[test_index]\n",
    "        y_train, y_test = prices[train_index], prices[test_index]\n",
    "        \n",
    "        normalize_data_train, normalize_data_test = normalize_data(X_train, X_test)\n",
    "        X_train = normalize_data_train\n",
    "        X_test = normalize_data_test\n",
    "        \n",
    "        ridge_model.fit(X_train, y_train)\n",
    "        \n",
    "        y_pred = ridge_model.predict(X_test)\n",
    "        mse = np.mean((y_test - y_pred)**2)\n",
    "        mse_scores.append(mse)\n",
    "        mae = np.mean(np.abs(y_test - y_pred))\n",
    "        mae_scores.append(mae)\n",
    "    \n",
    "    mean_mse = np.mean(mse_scores)\n",
    "    mean_mae = np.mean(mae_scores)\n",
    "    alpha_results[alpha] = {'MSE': mean_mse, 'MAE': mean_mae}\n",
    "    print(f\"Alpha = {alpha}: MSE = {mean_mse}, MAE = {mean_mae}\")\n",
    "\n",
    "# Find best alpha\n",
    "best_alpha = min(alpha_results.keys(), key=lambda x: alpha_results[x]['MSE'])\n",
    "print(f\"\\nBest alpha value: {best_alpha} with MSE = {alpha_results[best_alpha]['MSE']} and MAE = {alpha_results[best_alpha]['MAE']}\")"
   ]
  },
  {
   "cell_type": "markdown",
   "metadata": {
    "id": "l0AUGHEqWf3X"
   },
   "source": [
    "4. Folosind cel mai performant alpha de la punctul anterior, antrenați un model\n",
    "de regresie ridge pe întreaga mulțime de antrenare, afișați coeficienți și bias-ul\n",
    "regresiei. Care este cel mai semnificativ atribut? Care este al doilea cel mai\n",
    "semnificativ atribut? Care este cel mai puțin semnificativ atribut?\n",
    "Nu uitați să normalizați datele folosind metoda definită anterior."
   ]
  },
  {
   "cell_type": "code",
   "execution_count": null,
   "metadata": {
    "id": "7PqwAh2MbJEW"
   },
   "outputs": [],
   "source": [
    "from sklearn.preprocessing import StandardScaler\n",
    "from sklearn.linear_model import Ridge\n",
    "import numpy as np\n",
    "\n",
    "def normalize_data(training_data, test_data):\n",
    "  scaler = StandardScaler()\n",
    "  normalized_data_train = scaler.fit_transform(training_data)\n",
    "  normalized_data_test = scaler.transform(test_data)\n",
    "  return normalized_data_train, normalized_data_test\n",
    "\n",
    "best_alpha = best_alpha  \n",
    "\n",
    "normalized_training_data, _ = normalize_data(training_data, training_data)  \n",
    "\n",
    "ridge_model = Ridge(alpha=best_alpha)\n",
    "ridge_model.fit(normalized_training_data, prices)\n",
    "\n",
    "# Get coefficients and bias\n",
    "coefficients = ridge_model.coef_\n",
    "bias = ridge_model.intercept_\n",
    "\n",
    "print(\"Ridge Model Coefficients:\")\n",
    "feature_names = training_data.columns if hasattr(training_data, 'columns') else [f\"Feature {i}\" for i in range(training_data.shape[1])]\n",
    "feature_importance = list(zip(feature_names, coefficients))\n",
    "\n",
    "# Sort by absolute coefficient value to find most/least significant\n",
    "sorted_importance = sorted(feature_importance, key=lambda x: abs(x[1]), reverse=True)\n",
    "\n",
    "print(\"\\nCoefficients:\")\n",
    "for feature, coef in feature_importance:\n",
    "    print(f\"{feature}: {coef}\")\n",
    "\n",
    "print(f\"\\nBias (Intercept): {bias}\")\n",
    "\n",
    "print(f\"\\nMost significant attribute: {sorted_importance[0][0]} with coefficient {sorted_importance[0][1]}\")\n",
    "print(f\"Second most significant attribute: {sorted_importance[1][0]} with coefficient {sorted_importance[1][1]}\")\n",
    "print(f\"Least significant attribute: {sorted_importance[-1][0]} with coefficient {sorted_importance[-1][1]}\")"
   ]
  }
 ],
 "metadata": {
  "colab": {
   "authorship_tag": "ABX9TyO99bFl/yvF71AM22sac9iS",
   "provenance": [
    {
     "file_id": "1tzVTrzpTWqgRgZHYs9osVNDH0HLVu78A",
     "timestamp": 1742971560531
    }
   ]
  },
  "kernelspec": {
   "display_name": "Python 3 (ipykernel)",
   "language": "python",
   "name": "python3"
  },
  "language_info": {
   "codemirror_mode": {
    "name": "ipython",
    "version": 3
   },
   "file_extension": ".py",
   "mimetype": "text/x-python",
   "name": "python",
   "nbconvert_exporter": "python",
   "pygments_lexer": "ipython3",
   "version": "3.12.9"
  }
 },
 "nbformat": 4,
 "nbformat_minor": 4
}
