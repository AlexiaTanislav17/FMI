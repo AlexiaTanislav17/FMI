{
 "cells": [
  {
   "cell_type": "markdown",
   "id": "7d77ed3b",
   "metadata": {},
   "source": [
    "# Laborator 1 - IA\n",
    "\n",
    "## Introducere în NumPy și Matplotlib"
   ]
  },
  {
   "cell_type": "code",
   "execution_count": null,
   "id": "22ddf3cc",
   "metadata": {},
   "outputs": [],
   "source": [
    "# https://www.anaconda.com/docs/tools/working-with-conda/environments\n",
    "\n",
    "# conda create --name myenv python=3.13                  <=== Create an environment\n",
    "# conda info --envs                                      <== See a list of all environments\n",
    "# conda activate myenv                                   <=== Activate the environment\n",
    "# conda env export > environment.yml                     <=== Export environment config file (.yml)\n",
    "# conda deactivate                                       <=== Deactivate the environment"
   ]
  },
  {
   "cell_type": "markdown",
   "id": "a67ced9d",
   "metadata": {},
   "source": [
    "### Rulati asta daca nu aveti librariile instalate:"
   ]
  },
  {
   "cell_type": "code",
   "execution_count": 3,
   "id": "d012b336",
   "metadata": {},
   "outputs": [
    {
     "name": "stdout",
     "output_type": "stream",
     "text": [
      "Requirement already satisfied: numpy in c:\\users\\andyz\\anaconda3\\lib\\site-packages (1.24.3)\n",
      "Note: you may need to restart the kernel to use updated packages.\n"
     ]
    }
   ],
   "source": [
    "pip install numpy"
   ]
  },
  {
   "cell_type": "code",
   "execution_count": 2,
   "id": "3eaada37",
   "metadata": {
    "scrolled": false
   },
   "outputs": [
    {
     "name": "stdout",
     "output_type": "stream",
     "text": [
      "Requirement already satisfied: matplotlib in c:\\users\\andyz\\anaconda3\\lib\\site-packages (3.8.0)\n",
      "Requirement already satisfied: contourpy>=1.0.1 in c:\\users\\andyz\\anaconda3\\lib\\site-packages (from matplotlib) (1.0.6)\n",
      "Requirement already satisfied: cycler>=0.10 in c:\\users\\andyz\\anaconda3\\lib\\site-packages (from matplotlib) (0.11.0)\n",
      "Requirement already satisfied: fonttools>=4.22.0 in c:\\users\\andyz\\anaconda3\\lib\\site-packages (from matplotlib) (4.25.0)\n",
      "Requirement already satisfied: kiwisolver>=1.0.1 in c:\\users\\andyz\\anaconda3\\lib\\site-packages (from matplotlib) (1.4.4)\n",
      "Requirement already satisfied: numpy<2,>=1.21 in c:\\users\\andyz\\anaconda3\\lib\\site-packages (from matplotlib) (1.24.3)\n",
      "Requirement already satisfied: packaging>=20.0 in c:\\users\\andyz\\anaconda3\\lib\\site-packages (from matplotlib) (23.1)\n",
      "Requirement already satisfied: pillow>=6.2.0 in c:\\users\\andyz\\anaconda3\\lib\\site-packages (from matplotlib) (9.4.0)\n",
      "Requirement already satisfied: pyparsing>=2.3.1 in c:\\users\\andyz\\anaconda3\\lib\\site-packages (from matplotlib) (3.0.9)\n",
      "Requirement already satisfied: python-dateutil>=2.7 in c:\\users\\andyz\\anaconda3\\lib\\site-packages (from matplotlib) (2.8.2)\n",
      "Requirement already satisfied: importlib-resources>=3.2.0 in c:\\users\\andyz\\anaconda3\\lib\\site-packages (from matplotlib) (5.2.0)\n",
      "Requirement already satisfied: zipp>=3.1.0 in c:\\users\\andyz\\anaconda3\\lib\\site-packages (from importlib-resources>=3.2.0->matplotlib) (3.11.0)\n",
      "Requirement already satisfied: six>=1.5 in c:\\users\\andyz\\anaconda3\\lib\\site-packages (from python-dateutil>=2.7->matplotlib) (1.16.0)\n",
      "Note: you may need to restart the kernel to use updated packages.\n"
     ]
    }
   ],
   "source": [
    "pip install matplotlib"
   ]
  },
  {
   "cell_type": "code",
   "execution_count": 4,
   "id": "062fafc3",
   "metadata": {},
   "outputs": [
    {
     "name": "stdout",
     "output_type": "stream",
     "text": [
      "Requirement already satisfied: scikit-image in c:\\users\\andyz\\anaconda3\\lib\\site-packages (0.24.0)\n",
      "Requirement already satisfied: numpy>=1.23 in c:\\users\\andyz\\anaconda3\\lib\\site-packages (from scikit-image) (1.24.3)\n",
      "Requirement already satisfied: scipy>=1.9 in c:\\users\\andyz\\anaconda3\\lib\\site-packages (from scikit-image) (1.10.1)\n",
      "Requirement already satisfied: networkx>=2.8 in c:\\users\\andyz\\anaconda3\\lib\\site-packages (from scikit-image) (3.1)\n",
      "Requirement already satisfied: pillow>=9.1 in c:\\users\\andyz\\anaconda3\\lib\\site-packages (from scikit-image) (9.4.0)\n",
      "Requirement already satisfied: imageio>=2.33 in c:\\users\\andyz\\anaconda3\\lib\\site-packages (from scikit-image) (2.37.0)\n",
      "Requirement already satisfied: tifffile>=2022.8.12 in c:\\users\\andyz\\anaconda3\\lib\\site-packages (from scikit-image) (2024.8.30)\n",
      "Requirement already satisfied: packaging>=21 in c:\\users\\andyz\\anaconda3\\lib\\site-packages (from scikit-image) (23.1)\n",
      "Requirement already satisfied: lazy-loader>=0.4 in c:\\users\\andyz\\anaconda3\\lib\\site-packages (from scikit-image) (0.4)\n",
      "Note: you may need to restart the kernel to use updated packages.\n"
     ]
    }
   ],
   "source": [
    "pip install scikit-image\n",
    "# De aceasta va fi nevoie pentru exercitii, puteti sa o instalati mai tarziu"
   ]
  },
  {
   "cell_type": "markdown",
   "id": "9962d8e6",
   "metadata": {},
   "source": [
    "## Importing utils"
   ]
  },
  {
   "cell_type": "code",
   "execution_count": 2,
   "id": "0a74c0a1",
   "metadata": {},
   "outputs": [
    {
     "name": "stderr",
     "output_type": "stream",
     "text": [
      "C:\\Users\\andyz\\anaconda3\\lib\\site-packages\\paramiko\\transport.py:219: CryptographyDeprecationWarning: Blowfish has been deprecated\n",
      "  \"class\": algorithms.Blowfish,\n"
     ]
    }
   ],
   "source": [
    "import numpy as np\n",
    "import matplotlib.pyplot as plt\n",
    "import skimage"
   ]
  },
  {
   "cell_type": "markdown",
   "id": "44a954fb",
   "metadata": {},
   "source": [
    "## 1. Numpy"
   ]
  },
  {
   "cell_type": "markdown",
   "id": "61103812",
   "metadata": {},
   "source": [
    "## Vectori multidimensionali"
   ]
  },
  {
   "cell_type": "markdown",
   "id": "dc2ab65b",
   "metadata": {},
   "source": [
    "### Initializare folosind liste din Python"
   ]
  },
  {
   "cell_type": "code",
   "execution_count": 3,
   "id": "2c2fc356",
   "metadata": {},
   "outputs": [
    {
     "name": "stdout",
     "output_type": "stream",
     "text": [
      "<class 'list'>\n",
      "[1 2 3]\n",
      "<class 'numpy.ndarray'>\n",
      "int32\n",
      "(3,)\n",
      "1\n"
     ]
    }
   ],
   "source": [
    "lst = [1,2 ,3]\n",
    "print(type(lst))\n",
    "\n",
    "a = np.array([1, 2, 3])\n",
    "print(a) # => [1 2 3]\n",
    "print(type(a)) # tipul obiectului a => <class 'numpy.ndarray'>\n",
    "print(a.dtype) # tipul elementelor din a => int32 (pe masini virtuale care ruleaza Linux64 sau Colab, o sa fie int64)\n",
    "print(a.shape) # tuple continand lungimea lui a pe fiecare dimensiune => (3,)\n",
    "print(a[0]) # acceseaza elementul avand indexul 0 => 1"
   ]
  },
  {
   "cell_type": "code",
   "execution_count": 7,
   "id": "a1f0c10c",
   "metadata": {},
   "outputs": [
    {
     "name": "stdout",
     "output_type": "stream",
     "text": [
      "(2, 3)\n",
      "3\n",
      "3\n"
     ]
    }
   ],
   "source": [
    "b = np.array([[1, 2, 3], \n",
    "              [4, 5, 6]])\n",
    "\n",
    "print(b.shape) # => (2, 3)\n",
    "print(b[0][2]) # => 3\n",
    "print(b[0, 2]) # => 3"
   ]
  },
  {
   "cell_type": "markdown",
   "id": "de6c3c82",
   "metadata": {},
   "source": [
    "### np.array() vs np.asarray()"
   ]
  },
  {
   "cell_type": "code",
   "execution_count": 8,
   "id": "23edd4ec",
   "metadata": {},
   "outputs": [
    {
     "name": "stdout",
     "output_type": "stream",
     "text": [
      "<class 'numpy.ndarray'>\n",
      "(2, 2)\n"
     ]
    }
   ],
   "source": [
    "# asarray(x) se comporta ca array(x, copy=False)\n",
    "\n",
    "# asarray(x):\n",
    "# 1. Verifica dacă x este deja un obiect de tip numpy.ndarray.\n",
    "# 2. Daca DA, nu mai aloca memorie noua si il lasa in pace.\n",
    "# 3. Daca NU, il converteste in numpy.ndarray.\n",
    "\n",
    "# HERE <======================= What is exactly asarray ? When do we use it ?\n",
    "\n",
    "c = np.asarray([[1, 2], [3, 4]])\n",
    "print(type(c)) # => <class 'numpy.ndarray'>\n",
    "print(c.shape) # => (2, 2)"
   ]
  },
  {
   "cell_type": "code",
   "execution_count": 10,
   "id": "c19399f2",
   "metadata": {},
   "outputs": [
    {
     "name": "stdout",
     "output_type": "stream",
     "text": [
      "False\n",
      "True\n"
     ]
    }
   ],
   "source": [
    "a = np.array([1, 2, 3])\n",
    "b = np.array(a)      # face o copie\n",
    "c = np.asarray(a)    # NU face o copie, se refera la acelasi array\n",
    "\n",
    "print(a is b)  # False (copie)\n",
    "print(a is c)  # True  (acelasi obiect)"
   ]
  },
  {
   "cell_type": "code",
   "execution_count": 5,
   "id": "bc97c57c",
   "metadata": {},
   "outputs": [
    {
     "data": {
      "text/plain": [
       "matrix([[1., 1., 1.],\n",
       "        [1., 1., 1.],\n",
       "        [1., 1., 1.]])"
      ]
     },
     "execution_count": 5,
     "metadata": {},
     "output_type": "execute_result"
    }
   ],
   "source": [
    "# Generate a matrix\n",
    "A = np.matrix(np.ones((3, 3)))\n",
    "A"
   ]
  },
  {
   "cell_type": "code",
   "execution_count": 6,
   "id": "df797cf2",
   "metadata": {},
   "outputs": [
    {
     "name": "stdout",
     "output_type": "stream",
     "text": [
      "<class 'numpy.matrix'>\n"
     ]
    }
   ],
   "source": [
    "print(type(A))"
   ]
  },
  {
   "cell_type": "code",
   "execution_count": 12,
   "id": "0e7f87b6",
   "metadata": {},
   "outputs": [
    {
     "data": {
      "text/plain": [
       "matrix([[1., 1., 1.],\n",
       "        [1., 1., 1.],\n",
       "        [1., 1., 1.]])"
      ]
     },
     "execution_count": 12,
     "metadata": {},
     "output_type": "execute_result"
    }
   ],
   "source": [
    "# Use numpy.array to modify A. Doesn't work because you are modifying a copy.\n",
    "np.array(A)[2] = 2\n",
    "A"
   ]
  },
  {
   "cell_type": "code",
   "execution_count": 13,
   "id": "55be230f",
   "metadata": {},
   "outputs": [
    {
     "data": {
      "text/plain": [
       "matrix([[1., 1., 1.],\n",
       "        [1., 1., 1.],\n",
       "        [2., 2., 2.]])"
      ]
     },
     "execution_count": 13,
     "metadata": {},
     "output_type": "execute_result"
    }
   ],
   "source": [
    "# Use numpy.asarray to modify A. It worked because you are modifying A itself.\n",
    "np.asarray(A)[2] = 2\n",
    "A"
   ]
  },
  {
   "cell_type": "markdown",
   "id": "fa97f899",
   "metadata": {},
   "source": [
    "Cand folosim .asarray() ?\n",
    "\n",
    "- Mainly cand vrem sa ne asiguram ca input-ul e de tip np.ndarray dar nu vrem sa-l copiem inutil.\n",
    "(de obicei in biblioteci sau coduri performante, in chestii de tipul x = np.asarray(x))"
   ]
  },
  {
   "cell_type": "markdown",
   "id": "7527029d",
   "metadata": {},
   "source": [
    "### Initializare folosind functii prestabilite"
   ]
  },
  {
   "cell_type": "code",
   "execution_count": 17,
   "id": "7e231a1a",
   "metadata": {},
   "outputs": [
    {
     "name": "stdout",
     "output_type": "stream",
     "text": [
      "Array created using np.zeros()\n",
      " [[0. 0.]\n",
      " [0. 0.]\n",
      " [0. 0.]] \n",
      "\n",
      "Array created using np.ones()\n",
      " [[1. 1.]\n",
      " [1. 1.]] \n",
      "\n",
      "Array created using np.full()\n",
      " [[8 8]\n",
      " [8 8]] \n",
      "\n",
      "Array created using np.eye()\n",
      " [[1. 0. 0.]\n",
      " [0. 1. 0.]\n",
      " [0. 0. 1.]]\n"
     ]
    }
   ],
   "source": [
    "zero_array = np.zeros((3, 2)) # creeaza un vector continand numai 0\n",
    "print(\"Array created using np.zeros()\\n\", zero_array, \"\\n\")\n",
    "\n",
    "ones_array = np.ones((2, 2)) # creeaza un vector continand numai 1\n",
    "print(\"Array created using np.ones()\\n\", ones_array, \"\\n\")\n",
    "\n",
    "constant_array = np.full((2, 2), 8) # creeaza un vector constant\n",
    "print(\"Array created using np.full()\\n\", constant_array, \"\\n\")\n",
    "\n",
    "identity_matrix = np.eye(3) # creeaza matricea identitate de dimensiune 3x3\n",
    "print(\"Array created using np.eye()\\n\", identity_matrix)"
   ]
  },
  {
   "cell_type": "code",
   "execution_count": 20,
   "id": "cd09858f",
   "metadata": {},
   "outputs": [
    {
     "name": "stdout",
     "output_type": "stream",
     "text": [
      "Array created using np.random()\n",
      " [[0.97827323 0.57995742]]\n"
     ]
    }
   ],
   "source": [
    "random_array = np.random.random((1,2)) # creeaza un vector cu valori aleatoare\n",
    "                                       # uniform distribuite intre [0, 1)\n",
    "print(\"Array created using np.random.random()\\n\", random_array) # => ex: [[0.00672748 0.12277961]]"
   ]
  },
  {
   "cell_type": "code",
   "execution_count": 28,
   "id": "c63bbba4",
   "metadata": {},
   "outputs": [
    {
     "data": {
      "text/plain": [
       "array([[-0.09544106, -0.08793671,  0.19401992,  0.03377257,  0.02545452,\n",
       "         0.08638062],\n",
       "       [ 0.09607203, -0.02410696,  0.17298089, -0.01906814,  0.06841925,\n",
       "        -0.03867997],\n",
       "       [-0.07510766, -0.00223048, -0.10989072,  0.12760341,  0.05910988,\n",
       "        -0.04603179]])"
      ]
     },
     "execution_count": 28,
     "metadata": {},
     "output_type": "execute_result"
    }
   ],
   "source": [
    "mu, sigma = 0, 0.1\n",
    "gaussian_random = np.random.normal(mu, sigma, (3,6))         # creeaza un vector cu valori random \n",
    "                                                             # cu distributie Gaussiana \n",
    "                                                             # de medie mu si deviatie standard (std) sigma\n",
    "gaussian_random"
   ]
  },
  {
   "cell_type": "code",
   "execution_count": 29,
   "id": "23f36592",
   "metadata": {},
   "outputs": [
    {
     "name": "stdout",
     "output_type": "stream",
     "text": [
      "[0 1 2 3 4]\n"
     ]
    }
   ],
   "source": [
    "first_5 = np.arange(5) # creeaza un vector continand primele 5 numere naturale\n",
    "print(first_5)         # => [0 1 2 3 4]"
   ]
  },
  {
   "cell_type": "markdown",
   "id": "bdb3f01c",
   "metadata": {},
   "source": [
    "## Indexare"
   ]
  },
  {
   "cell_type": "markdown",
   "id": "b22a9513",
   "metadata": {},
   "source": [
    "### Slicing: extragerea unei submulțimi\n",
    "\n",
    "- Trebuie specificați indecșii doriți pe fiecare dimensiune\n"
   ]
  },
  {
   "cell_type": "code",
   "execution_count": 50,
   "id": "dbe1d0d9",
   "metadata": {},
   "outputs": [
    {
     "name": "stdout",
     "output_type": "stream",
     "text": [
      "[[ 1  2  3]\n",
      " [ 5  6  7]\n",
      " [ 9 10 11]]\n"
     ]
    }
   ],
   "source": [
    "array_to_slice = np.array([[1,2,3,4], \n",
    "                           [5,6,7,8], \n",
    "                           [9,10,11,12]])\n",
    "\n",
    "slice = array_to_slice[:, 0:3] # luam toate liniile si coloanele 0, 1, 2\n",
    "\n",
    "print(slice) # => [[ 1 2 3]\n",
    "                # [ 5 6 7]\n",
    "                # [ 9 10 11]]"
   ]
  },
  {
   "cell_type": "code",
   "execution_count": 51,
   "id": "4dacdd46",
   "metadata": {},
   "outputs": [
    {
     "name": "stdout",
     "output_type": "stream",
     "text": [
      "1\n",
      "100\n"
     ]
    }
   ],
   "source": [
    "# !!! Modificarea slice duce automat la modificarea array_to_slice\n",
    "\n",
    "print(array_to_slice[0][0]) # => 1\n",
    "slice[0][0] = 100\n",
    "print(array_to_slice[0][0]) # => 100"
   ]
  },
  {
   "cell_type": "code",
   "execution_count": 53,
   "id": "caf4b156",
   "metadata": {},
   "outputs": [
    {
     "name": "stdout",
     "output_type": "stream",
     "text": [
      "100\n",
      "1\n"
     ]
    }
   ],
   "source": [
    "# Pentru a nu se intampla acest lucru submultimea poate fi copiata\n",
    "\n",
    "array_to_slice = np.array([[1,2,3,4], \n",
    "                           [5,6,7,8], \n",
    "                           [9,10,11,12]])\n",
    "\n",
    "slice_copy = np.copy(array_to_slice[:, 0:3])\n",
    "slice_copy[0][0] = 100\n",
    "print(slice_copy[0][0]) # => 100\n",
    "print(array_to_slice[0][0]) # => 1"
   ]
  },
  {
   "cell_type": "markdown",
   "id": "8e9a9e11",
   "metadata": {},
   "source": [
    "- În cazul în care unul din indecși este un întreg, dimensiunea submulțimii returnate este mai mică decât dimensiunea inițială:"
   ]
  },
  {
   "cell_type": "code",
   "execution_count": 54,
   "id": "bc787391",
   "metadata": {},
   "outputs": [
    {
     "name": "stdout",
     "output_type": "stream",
     "text": [
      "[[ 9 10 11 12]] \n",
      "\n",
      "[ 9 10 11 12] \n",
      "\n",
      "[ 9 10 11 12] \n",
      "\n",
      "[[ 1  2  3  4  5  6]\n",
      " [ 7  8  9 10 11 12]] \n",
      "\n"
     ]
    }
   ],
   "source": [
    "slice_1 = array_to_slice[2:3, :]\n",
    "print(slice_1, \"\\n\") # => [[ 9 10 11 12]]\n",
    "\n",
    "slice_2 = array_to_slice[2, :]\n",
    "print(slice_2, \"\\n\") # => [ 9 10 11 12]\n",
    "\n",
    "# returnarea tuturor elementelor intr-un array 1D:\n",
    "slice_1d = np.ravel(slice_1)\n",
    "print(slice_1d, \"\\n\") # => [ 9 10 11 12]\n",
    "\n",
    "# dimensiunea vectorilor poate fi modificata folosind functia np.reshape\n",
    "reshaped_array = np.reshape(array_to_slice, (2, 6))\n",
    "print(reshaped_array, \"\\n\") # => [[ 1 2 3 4 5 6]\n",
    "                                # [ 7 8 9 10 11 12]]"
   ]
  },
  {
   "cell_type": "markdown",
   "id": "0b719c81",
   "metadata": {},
   "source": [
    "### Folosind vectori intregi"
   ]
  },
  {
   "cell_type": "code",
   "execution_count": 55,
   "id": "185aa46d",
   "metadata": {},
   "outputs": [
    {
     "name": "stdout",
     "output_type": "stream",
     "text": [
      "[2 4]\n"
     ]
    }
   ],
   "source": [
    "print(array_to_slice[[0,0], [1,3]])  # afiseaza elementele de pe pozitiile\n",
    "                                     # [0,1] si [0,3] => [2 4]"
   ]
  },
  {
   "cell_type": "markdown",
   "id": "7443106c",
   "metadata": {},
   "source": [
    "### Folosind vectori de valori bool"
   ]
  },
  {
   "cell_type": "code",
   "execution_count": 58,
   "id": "3471bbd7",
   "metadata": {},
   "outputs": [
    {
     "name": "stdout",
     "output_type": "stream",
     "text": [
      "[[False False False False]\n",
      " [False False False False]\n",
      " [False False  True  True]]\n",
      "[11 12]\n",
      "[11 12]\n"
     ]
    }
   ],
   "source": [
    "# Vrem sa afisam toate elementele mai mari decat 10 din array_to_slice\n",
    "\n",
    "bool_idx = (array_to_slice > 10) # rezulta o matrice de aceeasi dimensiune cu\n",
    "                                 # array_to_slice in care fiecare element consta\n",
    "                                 # intr-o valoare bool astfel:\n",
    "                                 # True, daca elementul corespunzator din array_to_slice > 10\n",
    "                                 # False, daca elementul corespunzator din array_to_slice <= 10\n",
    "\n",
    "print(bool_idx) # => [[ True False False False]\n",
    "                # [False False False False]\n",
    "                # [False False True True]]\n",
    "        \n",
    "print(array_to_slice[bool_idx]) # => [11 12]\n",
    "\n",
    "# Operatia se poate face si direct:\n",
    "print(array_to_slice[array_to_slice > 10]) # => [11 12]"
   ]
  },
  {
   "cell_type": "markdown",
   "id": "510ce080",
   "metadata": {},
   "source": [
    "## Functii matematice\n",
    "\n",
    "- Operațiile matematice de bază sunt disponibile atât ca funcții NumPy cât și ca operatori. Acestea sunt aplicate element cu element:\n"
   ]
  },
  {
   "cell_type": "code",
   "execution_count": 62,
   "id": "720cec4a",
   "metadata": {},
   "outputs": [
    {
     "name": "stdout",
     "output_type": "stream",
     "text": [
      "Suma element cu element\n",
      "\n",
      "[[ 6.  8.]\n",
      " [10. 12.]]\n",
      "[[ 6.  8.]\n",
      " [10. 12.]]\n",
      "\n",
      "Diferenta element cu element\n",
      "\n",
      "[[-4. -4.]\n",
      " [-4. -4.]]\n",
      "[[-4. -4.]\n",
      " [-4. -4.]]\n",
      "\n",
      "Produs element cu element\n",
      "\n",
      "[[ 5. 12.]\n",
      " [21. 32.]]\n",
      "[[ 5. 12.]\n",
      " [21. 32.]]\n",
      "\n",
      "Impartire element cu element\n",
      "\n",
      "[[0.2        0.33333333]\n",
      " [0.42857143 0.5       ]]\n",
      "[[0.2        0.33333333]\n",
      " [0.42857143 0.5       ]]\n",
      "\n",
      "Radical element cu element\n",
      "\n",
      "[[1.         1.41421356]\n",
      " [1.73205081 2.        ]]\n",
      "\n",
      "Ridicare la putere element cu element\n",
      "\n",
      "[ 0  1  8 27 64]\n"
     ]
    }
   ],
   "source": [
    "x = np.array([[1,2],[3,4]], dtype = np.float64)\n",
    "y = np.array([[5,6],[7,8]], dtype = np.float64)\n",
    "\n",
    "# Suma element cu element => [[ 6.0 8.0]\n",
    "                            # [ 10.0 12.0]]\n",
    "print(\"Suma element cu element\\n\")\n",
    "print(x + y)\n",
    "print(np.add(x, y))\n",
    "\n",
    "# Diferenta element cu element => [[ -4.0 -4.0]\n",
    "                                 # [-4.0 -4.0]]\n",
    "print(\"\\nDiferenta element cu element\\n\")\n",
    "print(x - y)\n",
    "print(np.subtract(x, y))\n",
    "\n",
    "# Produs element cu element => [[ 5.0 12.0]\n",
    "                              # [ 21.0 32.0]]\n",
    "print(\"\\nProdus element cu element\\n\")\n",
    "print(x * y)\n",
    "print(np.multiply(x, y))\n",
    "\n",
    "# Impartire element cu element => [[ 0.2 0.33333333]\n",
    "                                 # [ 0.42857143 0.5]]\n",
    "print(\"\\nImpartire element cu element\\n\")\n",
    "print(x / y)\n",
    "print(np.divide(x, y))\n",
    "\n",
    "# Radical element cu element => [[ 1. 1.41421356]\n",
    "                               # [ 1.73205081 2.]]\n",
    "print(\"\\nRadical element cu element\\n\")\n",
    "print(np.sqrt(x))\n",
    "\n",
    "# Ridicare la putere \n",
    "print(\"\\nRidicare la putere element cu element\\n\")\n",
    "my_array = np.arange(5)\n",
    "powered = np.power(my_array, 3)\n",
    "print(powered) # => [ 0 1 8 27 64]\n",
    "#print(np.power(x, 3))"
   ]
  },
  {
   "cell_type": "markdown",
   "id": "5656e2c5",
   "metadata": {},
   "source": [
    "### Produsul scalar"
   ]
  },
  {
   "cell_type": "code",
   "execution_count": 12,
   "id": "feca0050",
   "metadata": {},
   "outputs": [
    {
     "name": "stdout",
     "output_type": "stream",
     "text": [
      "219\n",
      "219\n",
      "[29 67]\n",
      "[[19 22]\n",
      " [43 50]]\n"
     ]
    }
   ],
   "source": [
    "x = np.array([[1, 2],[3, 4]])\n",
    "y = np.array([[5, 6],[7, 8]])\n",
    "v = np.array([9, 10])\n",
    "w = np.array([11, 12])\n",
    "\n",
    "# dot product/produs scalar: vector x vector => 9 x 11 + 10 x 12 = 219\n",
    "\n",
    "print(v.dot(w))\n",
    "print(np.dot(v, w))\n",
    "\n",
    "# matrice x vector => [29 67]\n",
    "print(np.matmul(x, v))\n",
    "\n",
    "# matrice x matrice => [[19 22]\n",
    "                      # [43 50]]\n",
    "print(np.matmul(x, y))"
   ]
  },
  {
   "cell_type": "markdown",
   "id": "a4c9b9d2",
   "metadata": {},
   "source": [
    "- dot(v, w) > 0 -> vectorii sunt in aceeasi direcție\n",
    "- dot(v, w) = 0 -> vectorii sunt ortogonali\n",
    "- dot(v, w) < 0 -> vectorii sunt in directii opuse"
   ]
  },
  {
   "cell_type": "code",
   "execution_count": 17,
   "id": "bc184b98",
   "metadata": {},
   "outputs": [
    {
     "name": "stdout",
     "output_type": "stream",
     "text": [
      "[-46  24   7]\n"
     ]
    }
   ],
   "source": [
    "# (Paranteza)\n",
    "# Daca am vrea CROSS PRODUCT, aka produsul vectorial (un alt vector, perpendicular pe cei doi vectori input)\n",
    "\n",
    "v = (3, 4, 6)\n",
    "w = (5, 9, 2)\n",
    "\n",
    "z = np.cross(v, w)\n",
    "print(z)"
   ]
  },
  {
   "cell_type": "markdown",
   "id": "183b57d0",
   "metadata": {},
   "source": [
    "### Operații pe matrici"
   ]
  },
  {
   "cell_type": "code",
   "execution_count": 66,
   "id": "bad26023",
   "metadata": {},
   "outputs": [
    {
     "name": "stdout",
     "output_type": "stream",
     "text": [
      "[[1 4]\n",
      " [2 5]\n",
      " [3 6]]\n",
      "\n",
      "\n",
      "[[-2.   1. ]\n",
      " [ 1.5 -0.5]]\n"
     ]
    }
   ],
   "source": [
    "# transpusa unei matrici\n",
    "my_array = np.array([[1, 2, 3], [4, 5, 6]]) # [[1, 2, 3],\n",
    "                                            # [4, 5, 6]]\n",
    "print(my_array.T) # => [[1, 4],\n",
    "                      # [2, 5],\n",
    "                      # [3, 6]]\n",
    "print(\"\\n\")\n",
    "# inversa unei matrici\n",
    "my_array = np.array([[1., 2.], [3., 4.]])\n",
    "print(np.linalg.inv(my_array)) # => [[-2. , 1. ],\n",
    "                                   # [ 1.5, -0.5]]"
   ]
  },
  {
   "cell_type": "markdown",
   "id": "7ff8afaa",
   "metadata": {},
   "source": [
    "- NumPy dispune de funcții care realizează operații pe o anumită dimensiune:"
   ]
  },
  {
   "cell_type": "code",
   "execution_count": 72,
   "id": "ddcf3eb3",
   "metadata": {},
   "outputs": [
    {
     "name": "stdout",
     "output_type": "stream",
     "text": [
      "10\n",
      "[4 6]\n",
      "[3 7]\n",
      "\n",
      "\n",
      "10\n",
      "\n",
      "\n",
      "(3, 2, 4)\n",
      "[[[1 2 3 4]\n",
      "  [5 6 7 8]]\n",
      "\n",
      " [[1 2 3 4]\n",
      "  [5 6 7 8]]\n",
      "\n",
      " [[1 2 3 4]\n",
      "  [5 6 7 8]]]\n",
      "\n",
      "\n",
      "[[1. 2. 3. 4.]\n",
      " [5. 6. 7. 8.]]\n",
      "\n",
      "\n",
      "[[3. 4. 5. 6.]\n",
      " [3. 4. 5. 6.]\n",
      " [3. 4. 5. 6.]]\n",
      "\n",
      "\n",
      "[1 2]\n",
      "\n",
      "\n"
     ]
    }
   ],
   "source": [
    "x = np.array([[1, 2],\n",
    "              [3, 4]])\n",
    "\n",
    "# suma pe o anumita dimensiune\n",
    "print(np.sum(x)) # Suma tuturor elementelor => 10\n",
    "print(np.sum(x, axis = 0)) # Suma pe coloane => [4 6]\n",
    "print(np.sum(x, axis = 1)) # Suma pe linii => [3 7]\n",
    "print(\"\\n\")\n",
    "\n",
    "# putem specifica si mai multe axe pe care sa se faca operatia:\n",
    "print(np.sum(x, axis = (0, 1))) # Suma tuturor elementelor => 10\n",
    "print(\"\\n\")\n",
    "\n",
    "# media pe o anumita dimensiune\n",
    "y = np.array([[[1, 2, 3, 4], [5, 6, 7, 8]], \n",
    "              [[1, 2, 3, 4], [5, 6, 7, 8]], \n",
    "              [[1, 2, 3, 4], [5, 6, 7, 8]]])\n",
    "print(y.shape) # => (3, 2, 4)\n",
    "print(y) # => [[[1 2 3 4]\n",
    "             # [5 6 7 8]]\n",
    "             # [[1 2 3 4]\n",
    "             # [5 6 7 8]]\n",
    "             # [[1 2 3 4]\n",
    "             # [5 6 7 8]]]\n",
    "print(\"\\n\")\n",
    "           \n",
    "print(np.mean(y, axis = 0)) # => [[1. 2. 3. 4.]\n",
    "                            # [5. 6. 7. 8.]]\n",
    "print(\"\\n\")\n",
    "print(np.mean(y, axis = 1)) # => [[3. 4. 5. 6.]\n",
    "                            # [3. 4. 5. 6.]\n",
    "                            # [3. 4. 5. 6.]]\n",
    "print(\"\\n\")\n",
    "\n",
    "# indexul elementului maxim pe fiecare linie\n",
    "z = np.array([[10, 12, 5], \n",
    "              [17, 11 ,19]])\n",
    "print(np.argmax(z, axis = 1)) # => [1 2]\n",
    "print(\"\\n\")"
   ]
  },
  {
   "cell_type": "markdown",
   "id": "dd6e7f77",
   "metadata": {},
   "source": [
    "### Broadcasting\n",
    "\n",
    "Broadcasting: mecanism care oferă posibilitatea de a realiza operații aritmetice între vectori de dimensiuni diferite\n",
    "Vectorul mai mic este multipilcat astfel încât să se potrivească cu cel mai mare, operația fiind apoi realizată pe cel din urmă\n",
    "\n",
    "- Vrem sa adunam un vector (v) la fiecare linie a unei matrici (m)"
   ]
  },
  {
   "cell_type": "code",
   "execution_count": 19,
   "id": "00f6e177",
   "metadata": {},
   "outputs": [
    {
     "name": "stdout",
     "output_type": "stream",
     "text": [
      "[[ 2  2  4]\n",
      " [ 5  5  7]\n",
      " [ 8  8 10]\n",
      " [11 11 13]]\n"
     ]
    }
   ],
   "source": [
    "m = np.array([[1,2,3], \n",
    "              [4,5,6], \n",
    "              [7,8,9], \n",
    "              [10, 11, 12]])\n",
    "\n",
    "v = np.array([1, 0, 1])\n",
    "y = m + v\n",
    "print(y)\n",
    "\n",
    "# Practic, y e \"lungit\" la\n",
    "# [[1, 0, 1],\n",
    "#  [1, 0, 1],\n",
    "#  [1, 0, 1],\n",
    "#  [1, 0, 1]]"
   ]
  },
  {
   "cell_type": "markdown",
   "id": "db0ade6c",
   "metadata": {},
   "source": [
    "#### Putem opri broadcasting?\n",
    "\n",
    "- Raspuns simplu: Not really"
   ]
  },
  {
   "cell_type": "code",
   "execution_count": 25,
   "id": "421e21d3",
   "metadata": {},
   "outputs": [
    {
     "ename": "ValueError",
     "evalue": "operands could not be broadcast together with shapes (4,3) (3,1) ",
     "output_type": "error",
     "traceback": [
      "\u001b[1;31m---------------------------------------------------------------------------\u001b[0m",
      "\u001b[1;31mValueError\u001b[0m                                Traceback (most recent call last)",
      "\u001b[1;32m~\\AppData\\Local\\Temp\\ipykernel_6624\\878226021.py\u001b[0m in \u001b[0;36m<module>\u001b[1;34m\u001b[0m\n\u001b[0;32m      7\u001b[0m \u001b[1;33m\u001b[0m\u001b[0m\n\u001b[0;32m      8\u001b[0m \u001b[0mv\u001b[0m \u001b[1;33m=\u001b[0m \u001b[0mnp\u001b[0m\u001b[1;33m.\u001b[0m\u001b[0marray\u001b[0m\u001b[1;33m(\u001b[0m\u001b[1;33m[\u001b[0m\u001b[1;33m[\u001b[0m\u001b[1;36m1\u001b[0m\u001b[1;33m,\u001b[0m \u001b[1;36m0\u001b[0m\u001b[1;33m,\u001b[0m \u001b[1;36m1\u001b[0m\u001b[1;33m]\u001b[0m\u001b[1;33m]\u001b[0m\u001b[1;33m)\u001b[0m  \u001b[1;31m# shape (1, 3)\u001b[0m\u001b[1;33m\u001b[0m\u001b[1;33m\u001b[0m\u001b[0m\n\u001b[1;32m----> 9\u001b[1;33m \u001b[0mm\u001b[0m \u001b[1;33m+\u001b[0m \u001b[0mv\u001b[0m\u001b[1;33m.\u001b[0m\u001b[0mT\u001b[0m  \u001b[1;31m# v.T are shape (3,1), acum avem (4,3) + (3,1) => Eroare (ne trebuie macar o dimensiune la fel)\u001b[0m\u001b[1;33m\u001b[0m\u001b[1;33m\u001b[0m\u001b[0m\n\u001b[0m",
      "\u001b[1;31mValueError\u001b[0m: operands could not be broadcast together with shapes (4,3) (3,1) "
     ]
    }
   ],
   "source": [
    "# Putem \"forta\" o transpusa a matricilor pentru incompatibilitate dimensiuni, de genul\n",
    "\n",
    "m = np.array([[1,2,3], \n",
    "              [4,5,6], \n",
    "              [7,8,9], \n",
    "              [10, 11, 12]])\n",
    "\n",
    "v = np.array([[1, 0, 1]])  # shape (1, 3)\n",
    "m + v.T  # v.T are shape (3,1), acum avem (4,3) + (3,1) => Eroare (ne trebuie macar o dimensiune la fel)"
   ]
  },
  {
   "cell_type": "markdown",
   "id": "0f1a91aa",
   "metadata": {},
   "source": [
    "#### La ce e util broadcasting în Inteligență Artificială?\n",
    "\n",
    "- Cand adaugam bias in retele neuronale: W @ X + b (b e broadcasted pe toata matricea w@x = exemplu din batch\n",
    "- Normalizari in standard scaler (putem avea matrici de mean/std, dar la normalizari pe tot setul de date X se face broadcast automat\n",
    "\n",
    "#### Reguli compatibilitate broadcast:\n",
    "\n",
    "- Daca doua array-uri au dimensiuni diferite, NumPy le aliniaza la dreapta\n",
    "- Doua dimensiuni sunt compatibile daca sunt egale, sau una din ele este 1"
   ]
  },
  {
   "cell_type": "markdown",
   "id": "67abe58d",
   "metadata": {},
   "source": [
    "## 2. Matplotlib\n",
    "\n",
    "- bibliotecă utilizată pentru plotarea datelor"
   ]
  },
  {
   "cell_type": "markdown",
   "id": "171627ba",
   "metadata": {},
   "source": [
    "### Plotare\n",
    "\n",
    "- cea mai importantă funcție este plot, care permite afișarea datelor 2D"
   ]
  },
  {
   "cell_type": "code",
   "execution_count": 9,
   "id": "a9432a39",
   "metadata": {},
   "outputs": [
    {
     "data": {
      "image/png": "[encoded data removed]",
      "text/plain": [
       "<Figure size 640x480 with 1 Axes>"
      ]
     },
     "metadata": {},
     "output_type": "display_data"
    }
   ],
   "source": [
    "# Calculeaza coordonatele (x, y) ale punctelor de pe o curba sin\n",
    "# x - valori de la 0 la 3 * np.pi, luate din 0.1 in 0.1\n",
    "\n",
    "x = np.arange(0, 3 * np.pi, 0.1)\n",
    "y = np.sin(x)\n",
    "\n",
    "# Ploteaza punctele\n",
    "plt.plot(x, y)\n",
    "#plt.plot(x, y, 'o') - Daca vrem puncte in loc de interpolare\n",
    "\n",
    "# Adauga etichete pentru fiecare axa\n",
    "plt.xlabel('x axis label')\n",
    "plt.ylabel('y axis label')\n",
    "\n",
    "# Adauga titlu\n",
    "plt.title('Sine')\n",
    "\n",
    "# Adauga legenda\n",
    "plt.legend(['Sine'])\n",
    "\n",
    "# Afiseaza figura\n",
    "plt.show()"
   ]
  },
  {
   "cell_type": "markdown",
   "id": "469a6518",
   "metadata": {},
   "source": [
    "#### Plotarea mai multor grafice în cadrul aceleiași figuri:"
   ]
  },
  {
   "cell_type": "code",
   "execution_count": 26,
   "id": "58418be9",
   "metadata": {},
   "outputs": [
    {
     "data": {
      "image/png": "[encoded data removed]",
      "text/plain": [
       "<Figure size 640x480 with 1 Axes>"
      ]
     },
     "metadata": {},
     "output_type": "display_data"
    }
   ],
   "source": [
    "# Calculeaza coordonatele (x, y) ale punctelor de pe o curba sin, respectiv cos\n",
    "# x - valori de la 0 la 3 * np.pi, luate din 0.1 in 0.1\n",
    "\n",
    "x = np.arange(0, 3 * np.pi, 0.1)\n",
    "y_1 = np.sin(x)\n",
    "y_2 = np.cos(x)\n",
    "\n",
    "# Ploteaza punctele in aceeasi figura\n",
    "plt.plot(x, y_1, '-')\n",
    "plt.plot(x, y_2, '--')\n",
    "\n",
    "# Adauga titlu\n",
    "plt.title('Sine and Cosine')\n",
    "\n",
    "# Adauga legenda\n",
    "plt.legend(['Sine', 'Cosine'])\n",
    "\n",
    "# Afiseaza figura\n",
    "plt.show()"
   ]
  },
  {
   "cell_type": "markdown",
   "id": "dff5ac81",
   "metadata": {},
   "source": [
    "#### Plotarea simultană a mai multor grafice în figuri diferite:"
   ]
  },
  {
   "cell_type": "code",
   "execution_count": 82,
   "id": "b1f68c77",
   "metadata": {},
   "outputs": [
    {
     "data": {
      "image/png": "[encoded data removed]",
      "text/plain": [
       "<Figure size 640x480 with 1 Axes>"
      ]
     },
     "metadata": {},
     "output_type": "display_data"
    },
    {
     "data": {
      "image/png": "[encoded data removed]",
      "text/plain": [
       "<Figure size 640x480 with 1 Axes>"
      ]
     },
     "metadata": {},
     "output_type": "display_data"
    }
   ],
   "source": [
    "# Calculeaza coordonatele (x, y) ale punctelor de pe o curba sin, respectiv cos\n",
    "# x - valori de la 0 la 3 * np.pi, luate din 0.1 in 0.1\n",
    "\n",
    "x = np.arange(0, 3 * np.pi, 0.1)\n",
    "y_1 = np.sin(x)\n",
    "y_2 = np.cos(x)\n",
    "\n",
    "# definim primul plot in figura 1\n",
    "first_plot = plt.figure(1)\n",
    "plt.plot(x, y_1)\n",
    "plt.title('Sine')\n",
    "plt.legend(['Sine'])\n",
    "\n",
    "# definim cel de-al doilea plot in figura 2\n",
    "second_plot = plt.figure(2)\n",
    "plt.plot(x, y_2)\n",
    "plt.title('Cosine')\n",
    "plt.legend(['Cosine'])\n",
    "\n",
    "# afisam figurile\n",
    "plt.show()"
   ]
  },
  {
   "cell_type": "markdown",
   "id": "67fde72e",
   "metadata": {},
   "source": [
    "#### Subplotare\n",
    "\n",
    "- putem plota mai multe subfiguri în cadrul aceleiași figuri"
   ]
  },
  {
   "cell_type": "code",
   "execution_count": 85,
   "id": "c6284e89",
   "metadata": {},
   "outputs": [
    {
     "data": {
      "image/png": "[encoded data removed]",
      "text/plain": [
       "<Figure size 640x480 with 2 Axes>"
      ]
     },
     "metadata": {},
     "output_type": "display_data"
    }
   ],
   "source": [
    "# Calculeaza coordonatele (x, y) ale punctelor de pe o curba sin, respectiv cos\n",
    "x = np.arange(0, 3 * np.pi, 0.1)\n",
    "y_sin = np.sin(x)\n",
    "y_cos = np.cos(x)\n",
    "\n",
    "# Creeaza un grid avand inaltimea 2 si latimea 1 si seteaza primul subplot ca activ\n",
    "plt.subplot(2, 1, 1)\n",
    "\n",
    "# Ploteaza primele valori\n",
    "plt.plot(x, y_sin)\n",
    "plt.title('Sine')\n",
    "\n",
    "# Seteaza cel de-al doilea subplot ca activ si ploteaza al doilea set de date\n",
    "plt.subplot(2, 1, 2)\n",
    "\n",
    "# Ploteaza urmatoarele valori\n",
    "plt.plot(x, y_cos)\n",
    "plt.title('Cosine')\n",
    "\n",
    "# Afiseaza figura\n",
    "plt.show()"
   ]
  }
 ],
 "metadata": {
  "kernelspec": {
   "display_name": "Python 3 (ipykernel)",
   "language": "python",
   "name": "python3"
  },
  "language_info": {
   "codemirror_mode": {
    "name": "ipython",
    "version": 3
   },
   "file_extension": ".py",
   "mimetype": "text/x-python",
   "name": "python",
   "nbconvert_exporter": "python",
   "pygments_lexer": "ipython3",
   "version": "3.9.7"
  }
 },
 "nbformat": 4,
 "nbformat_minor": 5
}
